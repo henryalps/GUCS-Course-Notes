{
 "cells": [
  {
   "cell_type": "code",
   "execution_count": 1,
   "id": "8e07e689-3289-4d81-9a31-9297f1a37ecc",
   "metadata": {
    "tags": []
   },
   "outputs": [],
   "source": [
    "/**\n",
    "To run JavaScript code in JupyterLab, you need to use a JupyterLab extension called \"IJavascript\" which provides a JavaScript kernel for JupyterLab. Here are the steps to run JavaScript code in JupyterLab:\n",
    "\n",
    "1. Install Node.js: JupyterLab requires Node.js to run JavaScript code. If you don't have Node.js installed, you can download and install it from the official Node.js website (https://nodejs.org).\n",
    "\n",
    "2. Install IJavascript kernel: Open a terminal or command prompt and run the following command to install the IJavascript kernel:\n",
    "```\n",
    "npm install -g ijavascript\n",
    "ijsinstall\n",
    "```\n",
    "\n",
    "3. Start JupyterLab: Open a terminal or command prompt and enter the following command to start JupyterLab:\n",
    "```\n",
    "jupyter lab\n",
    "```\n",
    "4. Create a new Jupyter notebook: In the JupyterLab interface, click on the \"+\" button in the top-left corner and select \"Notebook\" under the \"Notebook\" section.\n",
    "\n",
    "5. Select the JavaScript kernel: In the new notebook, click on the \"Kernel\" menu and select \"Change Kernel\". Choose \"JavaScript\" from the list of available kernels.\n",
    "\n",
    "6. Run JavaScript code: In a code cell within the notebook, you can now write and execute JavaScript code. Type or paste your JavaScript code into the cell and press Shift+Enter to run it.\n",
    "\n",
    "Please note that the IJavascript extension provides a JavaScript runtime environment within JupyterLab, but it doesn't have access to the browser's DOM or other browser-specific APIs. It is primarily designed for running JavaScript code in a server-side environment.\n",
    "*/"
   ]
  },
  {
   "cell_type": "code",
   "execution_count": 2,
   "id": "a83c2c75-ff21-487c-9429-71b824bb2ec9",
   "metadata": {
    "tags": []
   },
   "outputs": [],
   "source": [
    "/* page 9: undefined value is obtained from variable definition expression */\n",
    "var x = 2 * 3;\n"
   ]
  },
  {
   "cell_type": "code",
   "execution_count": 3,
   "id": "080b2e8d-0648-435b-9bd6-01bf1230c3aa",
   "metadata": {
    "tags": []
   },
   "outputs": [
    {
     "data": {
      "text/plain": [
       "6"
      ]
     },
     "execution_count": 3,
     "metadata": {},
     "output_type": "execute_result"
    }
   ],
   "source": [
    "/* page 10: The 6 you entered is an expression. The 6 that console gave you is a\n",
    "value. Those two 6's are different things */\n",
    "6\n"
   ]
  },
  {
   "cell_type": "code",
   "execution_count": 4,
   "id": "77c2068a-cb19-4c4f-a314-9b3c603a9744",
   "metadata": {
    "tags": []
   },
   "outputs": [
    {
     "data": {
      "text/plain": [
       "6"
      ]
     },
     "execution_count": 4,
     "metadata": {},
     "output_type": "execute_result"
    }
   ],
   "source": [
    "/* page 11: When you evaluate var y = x, JavaScript will evaluate x first\n",
    "and get the value 6. Then it associates y with the value 6. y is never\n",
    "associated with the variable x. */\n",
    "var y = x;\n",
    "y\n"
   ]
  },
  {
   "cell_type": "code",
   "execution_count": 7,
   "id": "67ba92a5-9f98-435e-b52d-04a3b0d9c43f",
   "metadata": {
    "tags": []
   },
   "outputs": [
    {
     "data": {
      "text/plain": [
       "[Function (anonymous)]"
      ]
     },
     "execution_count": 7,
     "metadata": {},
     "output_type": "execute_result"
    }
   ],
   "source": [
    "/* page 11: A function is also an expression. */\n",
    "x => x * x \n"
   ]
  },
  {
   "cell_type": "code",
   "execution_count": 8,
   "id": "10a24576-f1ac-4145-8301-1100f3218888",
   "metadata": {
    "tags": []
   },
   "outputs": [
    {
     "data": {
      "text/plain": [
       "9"
      ]
     },
     "execution_count": 8,
     "metadata": {},
     "output_type": "execute_result"
    }
   ],
   "source": [
    "/* page 12: This construct (x => x * x)(3) is a function call, or just call */\n",
    "(x => x * x)(3)\n"
   ]
  },
  {
   "cell_type": "code",
   "execution_count": 12,
   "id": "89922891-9354-4c02-aff1-a36091c18328",
   "metadata": {
    "tags": []
   },
   "outputs": [
    {
     "data": {
      "text/plain": [
       "true"
      ]
     },
     "execution_count": 12,
     "metadata": {},
     "output_type": "execute_result"
    }
   ],
   "source": [
    "/* page 13: we find a way to give functions names */\n",
    "var square = x => x * x;\n",
    "var sq = square;\n",
    "square(3) === sq(3)\n"
   ]
  },
  {
   "cell_type": "code",
   "execution_count": 13,
   "id": "326df7b1-c040-449d-b631-ddbd445dd67d",
   "metadata": {
    "tags": []
   },
   "outputs": [
    {
     "data": {
      "text/plain": [
       "true"
      ]
     },
     "execution_count": 13,
     "metadata": {},
     "output_type": "execute_result"
    }
   ],
   "source": [
    "/* page 16: substitution */\n",
    "(x => 2 * (x + 3))(5) === 2 * (5 + 3)\n"
   ]
  },
  {
   "cell_type": "code",
   "execution_count": 14,
   "id": "a5384c62-ad4e-4b6d-8003-08bdf8213352",
   "metadata": {
    "tags": []
   },
   "outputs": [
    {
     "data": {
      "text/plain": [
       "7"
      ]
     },
     "execution_count": 14,
     "metadata": {},
     "output_type": "execute_result"
    }
   ],
   "source": [
    "/* page 17: function with more than one params */\n",
    "((x, y) => x + 2 * y)(1, 3)\n"
   ]
  },
  {
   "cell_type": "code",
   "execution_count": 16,
   "id": "9e6449a3-0b49-41ea-804a-814266c832fb",
   "metadata": {
    "tags": []
   },
   "outputs": [
    {
     "data": {
      "text/plain": [
       "[Function (anonymous)]"
      ]
     },
     "execution_count": 16,
     "metadata": {},
     "output_type": "execute_result"
    }
   ],
   "source": [
    "/* page 18: you can create functionsinside another function*/ \n",
    "(x => (y => x + y))(2) \n"
   ]
  },
  {
   "cell_type": "code",
   "execution_count": 18,
   "id": "c5b93709-f1ba-4aea-950c-b5d03c840601",
   "metadata": {
    "tags": []
   },
   "outputs": [
    {
     "data": {
      "text/plain": [
       "9"
      ]
     },
     "execution_count": 18,
     "metadata": {},
     "output_type": "execute_result"
    }
   ],
   "source": [
    "/* page 19: functions can also be used as input\n",
    "to another function. */\n",
    "var apply = (f, x) => f(x);\n",
    "var h = x => x * x;\n",
    "apply(h, 3)"
   ]
  },
  {
   "cell_type": "code",
   "execution_count": 20,
   "id": "2d461f75-5267-45cb-9c80-4215b16da206",
   "metadata": {
    "tags": []
   },
   "outputs": [
    {
     "data": {
      "text/plain": [
       "true"
      ]
     },
     "execution_count": 20,
     "metadata": {},
     "output_type": "execute_result"
    }
   ],
   "source": [
    "/* page 20: compose(x => x *\n",
    "x, x => x + 1), rewrite it into a simple function of the form x => ...\n",
    "without using compose? */\n",
    "var compose = (f, g) => (x => f(g(x)));\n",
    "compose(x => x * x, x => x + 1)(3) === (x => (x + 1) * (x + 1))(3)"
   ]
  },
  {
   "cell_type": "code",
   "execution_count": 21,
   "id": "5488c9fd-a56c-47c7-a83d-20b1bf4ccdd4",
   "metadata": {
    "tags": []
   },
   "outputs": [
    {
     "data": {
      "text/plain": [
       "false"
      ]
     },
     "execution_count": 21,
     "metadata": {},
     "output_type": "execute_result"
    }
   ],
   "source": [
    "/* page 21: Is x => y => x + y equivalent to x => x => x + x? NO */\n",
    "(x => y => x + y)(1)(2) === (x => x => x + x)(1)(2)"
   ]
  },
  {
   "cell_type": "code",
   "execution_count": 24,
   "id": "22ab9bce-cdc8-42ea-95cd-fcc03c100d20",
   "metadata": {
    "tags": []
   },
   "outputs": [
    {
     "data": {
      "text/plain": [
       "true"
      ]
     },
     "execution_count": 24,
     "metadata": {},
     "output_type": "execute_result"
    }
   ],
   "source": [
    "/* page 22: If e is any expression,\n",
    "then x => e(x) is equivalent to e.*/\n",
    "(x => (y => y + y)(x))(2) === (y => y + y)(2)"
   ]
  },
  {
   "cell_type": "code",
   "execution_count": 25,
   "id": "a0ea0f87-3a18-4b97-b481-18ef0673bc20",
   "metadata": {
    "tags": []
   },
   "outputs": [
    {
     "data": {
      "text/plain": [
       "true"
      ]
     },
     "execution_count": 25,
     "metadata": {},
     "output_type": "execute_result"
    }
   ],
   "source": [
    "/* page 23: you can write curly braces in the \"arrow notation\"\n",
    "too. */\n",
    "function f(x)\n",
    "{\n",
    "    var y = x * x;\n",
    "    return y + 1;\n",
    "}\n",
    "\n",
    "var g = x =>\n",
    "{\n",
    "    var y = x * x;\n",
    "    return y + 1;\n",
    "}\n",
    "\n",
    "f(1) === g(1)"
   ]
  }
 ],
 "metadata": {
  "kernelspec": {
   "display_name": "JavaScript (Node.js)",
   "language": "javascript",
   "name": "javascript"
  },
  "language_info": {
   "file_extension": ".js",
   "mimetype": "application/javascript",
   "name": "javascript",
   "version": "20.8.0"
  }
 },
 "nbformat": 4,
 "nbformat_minor": 5
}
