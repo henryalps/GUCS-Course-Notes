{
 "cells": [
  {
   "cell_type": "markdown",
   "id": "5e4436fe-49a1-41f6-8b25-f2b9db5f79b8",
   "metadata": {},
   "source": [
    "## key takeaway\n",
    "For actual engineering projects, it is usually better to define an abstract data type even for the simplest structures."
   ]
  },
  {
   "cell_type": "code",
   "execution_count": 1,
   "id": "7f29d17f-5c12-4334-bdd6-db715a455401",
   "metadata": {},
   "outputs": [
    {
     "data": {
      "text/plain": [
       "[Function: second]"
      ]
     },
     "execution_count": 1,
     "metadata": {},
     "output_type": "execute_result"
    }
   ],
   "source": [
    "ref = require('./module');\n",
    "for (let key in ref) {\n",
    "  global[key] = ref[key];\n",
    "}"
   ]
  },
  {
   "cell_type": "code",
   "execution_count": 2,
   "id": "dd45e47b-7bad-4afa-bd50-2eb91324789a",
   "metadata": {},
   "outputs": [],
   "source": [
    "/* Page 2: Use emptyTable for the end of the table instead of null. This\n",
    "may improve understandability of code.*/\n",
    "var emptyTable = null;"
   ]
  },
  {
   "cell_type": "code",
   "execution_count": 5,
   "id": "b3ec7e8f-8551-4f2d-bca0-8c9b97d950fe",
   "metadata": {},
   "outputs": [
    {
     "name": "stdout",
     "output_type": "stream",
     "text": [
      "((pizza,128),((cake,46),((pasta,68),((steak,258),((salad,45),((beer,35),null))))))\n"
     ]
    }
   ],
   "source": [
    "/* Page 2: Write the code for constructing the menu. Run it and\n",
    "display the table with pairToString. You should be able to see the\n",
    "menu.*/\n",
    "var menu1 = pair(pair('pizza', 128), \n",
    "                pair(pair('cake', 46), \n",
    "                     pair(pair('pasta', 68),\n",
    "                          pair(pair('steak', 258),\n",
    "                               pair(pair('salad', 45),\n",
    "                                    pair(pair('beer', 35), null))))));\n",
    "\n",
    "console.log(pairToString(menu1));"
   ]
  },
  {
   "cell_type": "code",
   "execution_count": 6,
   "id": "ad99d409-c4ee-4460-b141-43f13da367f7",
   "metadata": {},
   "outputs": [
    {
     "name": "stdout",
     "output_type": "stream",
     "text": [
      "258\n"
     ]
    }
   ],
   "source": [
    "/* Page 3: write a function\n",
    "lookupTable which finds the value for a given key. It should be a\n",
    "recursive function on lists. */\n",
    "function lookupTable(key, table)\n",
    "{\n",
    "    if (table == null)\n",
    "    {\n",
    "        throw(\"Key not exists in table.\");\n",
    "    }\n",
    "    else\n",
    "    {\n",
    "        var cur = head(table);\n",
    "        if (first(cur) == key)\n",
    "        {\n",
    "            return second(cur);\n",
    "        }\n",
    "        else\n",
    "        {\n",
    "            return lookupTable(key, tail(table));\n",
    "        }\n",
    "    }\n",
    "}\n",
    "\n",
    "console.log(lookupTable(\"steak\", menu1));"
   ]
  },
  {
   "cell_type": "code",
   "execution_count": 8,
   "id": "d476ca47-76cc-4b69-806c-937ba409b0ed",
   "metadata": {},
   "outputs": [
    {
     "name": "stdout",
     "output_type": "stream",
     "text": [
      "((add,42),((pizza,128),((cake,46),((pasta,68),((steak,258),((salad,45),((beer,35),null)))))))\n"
     ]
    }
   ],
   "source": [
    "/* Page 3: We need another function addTable, which will\n",
    "construct a new table based on an existing table. It will put a new key-\n",
    "value pair on top of the old table, thus creating a new table.*/\n",
    "function addTable(key, value, oldTable)\n",
    "{\n",
    "    return pair(pair(key, value), oldTable);\n",
    "}\n",
    "\n",
    "console.log(pairToString(addTable(\"add\", 42, menu1)));"
   ]
  },
  {
   "cell_type": "code",
   "execution_count": 11,
   "id": "52216d37-7f57-437f-bed7-c70be7183981",
   "metadata": {},
   "outputs": [],
   "source": [
    "/* Page 7: Now write this constructor function. It is called\n",
    "bst.*/\n",
    "var emptyBST = null;\n",
    "function bst(key, value, left, right)\n",
    "{\n",
    "    return pair(\"bst\", pair(pair(key, value), pair(left, right)));\n",
    "}"
   ]
  },
  {
   "cell_type": "code",
   "execution_count": 14,
   "id": "49e8cc7d-3fa6-4b0c-a93e-bd2652b7f0ff",
   "metadata": {},
   "outputs": [
    {
     "name": "stdout",
     "output_type": "stream",
     "text": [
      "(bst,((pizza,128),((bst,((cake,46),((bst,((beer,35),(null,null))),(bst,((pasta,68),(null,null)))))),(bst,((steak,258),((bst,((salad,45),(null,null))),null))))))\n"
     ]
    }
   ],
   "source": [
    "/* Page 7: Now we need another function addBST which constructs a new BST\n",
    "with a new key-value pair.*/\n",
    "function addBST(key, value, node)\n",
    "{\n",
    "    if (node == emptyBST)\n",
    "    {\n",
    "        return bst(key, value, emptyBST, emptyBST);\n",
    "    }\n",
    "    else\n",
    "    {\n",
    "        var nodeKey = first(first(second(node)));\n",
    "        var nodeValue = second(first(second(node)));\n",
    "        var nodeLeft = first(second(second(node)));\n",
    "        var nodeRight = second(second(second(node)));\n",
    "        if (nodeKey > key)\n",
    "        {\n",
    "            return bst(nodeKey,nodeValue,addBST(key, value, nodeLeft), nodeRight);\n",
    "        }\n",
    "        else if (nodeKey < key)\n",
    "        {\n",
    "            return bst(nodeKey,nodeValue,nodeLeft,addBST(key, value, nodeRight));\n",
    "        }\n",
    "        else if (nodeKey == key)\n",
    "        {\n",
    "            return bst(key, value, nodeLeft, addBST(nodeKey, nodeValue, nodeRight));\n",
    "        }\n",
    "    }\n",
    "}\n",
    "\n",
    "var bstMenu1 = emptyBST;\n",
    "bstMenu1 = addBST(\"pizza\", 128, bstMenu1);\n",
    "bstMenu1 = addBST(\"cake\", 46, bstMenu1);\n",
    "bstMenu1 = addBST(\"pasta\", 68, bstMenu1);\n",
    "bstMenu1 = addBST(\"steak\", 258, bstMenu1);\n",
    "bstMenu1 = addBST(\"salad\", 45, bstMenu1);\n",
    "bstMenu1 = addBST(\"beer\", 35, bstMenu1);\n",
    "\n",
    "console.log(pairToString(bstMenu1));"
   ]
  },
  {
   "cell_type": "code",
   "execution_count": 15,
   "id": "987af56e-7b54-48b0-a92c-89377270d5cb",
   "metadata": {},
   "outputs": [
    {
     "name": "stdout",
     "output_type": "stream",
     "text": [
      "68\n"
     ]
    }
   ],
   "source": [
    "/* Page 8: Next function to write is lookupBST. It just implements the lookup\n",
    "process that you have described before. */\n",
    "function lookupBST(key, node)\n",
    "{\n",
    "    if (node == emptyBST)\n",
    "    {\n",
    "        throw(\"key not exists in bst.\")\n",
    "    }\n",
    "    else\n",
    "    {\n",
    "        var nodeKey = first(first(second(node)));\n",
    "        var nodeValue = second(first(second(node)));\n",
    "        var nodeLeft = first(second(second(node)));\n",
    "        var nodeRight = second(second(second(node)));\n",
    "        if (nodeKey == key)\n",
    "        {\n",
    "            return nodeValue;\n",
    "        }\n",
    "        else if (nodeKey > key)\n",
    "        {\n",
    "            return lookupBST(key, nodeLeft);\n",
    "        }\n",
    "        else if (nodeKey < key)\n",
    "        {\n",
    "            return lookupBST(key, nodeRight);\n",
    "        }\n",
    "    }\n",
    "}\n",
    "\n",
    "console.log(lookupBST(\"pasta\", bstMenu1));"
   ]
  }
 ],
 "metadata": {
  "kernelspec": {
   "display_name": "JavaScript (Node.js)",
   "language": "javascript",
   "name": "javascript"
  },
  "language_info": {
   "file_extension": ".js",
   "mimetype": "application/javascript",
   "name": "javascript",
   "version": "12.22.9"
  }
 },
 "nbformat": 4,
 "nbformat_minor": 5
}
