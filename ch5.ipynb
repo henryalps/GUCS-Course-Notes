{
 "cells": [
  {
   "cell_type": "code",
   "execution_count": 2,
   "id": "5febb0a3-6469-49d5-9a81-683f811c7d27",
   "metadata": {},
   "outputs": [
    {
     "data": {
      "text/plain": [
       "[Function: second]"
      ]
     },
     "execution_count": 2,
     "metadata": {},
     "output_type": "execute_result"
    }
   ],
   "source": [
    "ref = require('./module');\n",
    "for (let key in ref) {\n",
    "  global[key] = ref[key];\n",
    "}"
   ]
  },
  {
   "cell_type": "code",
   "execution_count": 4,
   "id": "a9a44dd3-5b5f-424e-b5b5-000a894650b9",
   "metadata": {},
   "outputs": [
    {
     "name": "stdout",
     "output_type": "stream",
     "text": [
      "(binop,(+,(1,(1,null))))\n"
     ]
    }
   ],
   "source": [
    "/* Page 3: we can put a special string member \"binop\" into\n",
    "the list */\n",
    "function binop(op, e1, e2)\n",
    "{\n",
    "    return pair(\"binop\", pair(op, pair(e1, pair(e2, null))));\n",
    "}\n",
    "\n",
    "console.log(pairToString(binop('+', 1, 1)));"
   ]
  },
  {
   "cell_type": "code",
   "execution_count": 9,
   "id": "0831c4ba-9e55-4e75-b426-b867bb1c2ed7",
   "metadata": {},
   "outputs": [
    {
     "name": "stdout",
     "output_type": "stream",
     "text": [
      "true\n",
      "+\n",
      "1\n",
      "2\n"
     ]
    }
   ],
   "source": [
    "/* Page 3:  Can you come up with the\n",
    "type predicate and visitors yourself? You can call the type predicate\n",
    "isBinOp and the visitors binopOp, binopE1 and binopE2.*/\n",
    "\n",
    "function isBinOp(x)\n",
    "{\n",
    "    if(!isPair(x))\n",
    "    {\n",
    "        return false;\n",
    "    }\n",
    "    else\n",
    "    {\n",
    "        return first(x) == \"binop\";\n",
    "    }\n",
    "}\n",
    "\n",
    "function binopOp(b)\n",
    "{\n",
    "    return first(second(b));\n",
    "}\n",
    "\n",
    "function binopE1(b)\n",
    "{\n",
    "    return first(second(second(b)));\n",
    "}\n",
    "\n",
    "function binopE2(b)\n",
    "{\n",
    "    var e2 = second(second(second(b)));\n",
    "    if (isBinOp(e2))\n",
    "    {\n",
    "        return e2;\n",
    "    }\n",
    "    else\n",
    "    {\n",
    "        return first(e2);\n",
    "    }\n",
    "}\n",
    "\n",
    "var bo = binop('+', 1, 2);\n",
    "console.log(isBinOp(bo));\n",
    "console.log(binopOp(bo));\n",
    "console.log(binopE1(bo));\n",
    "console.log(binopE2(bo));"
   ]
  },
  {
   "cell_type": "code",
   "execution_count": 11,
   "id": "f75125e1-59db-4ca7-81c7-b5f9e4fa5132",
   "metadata": {},
   "outputs": [],
   "source": [
    "/* Page 3: After having the binop node structure, we can use it to\n",
    "construct our previous examples for 2 * 3 and 1 + 2 * 3 */\n",
    "var s1 = binop(\"*\", 2, 3);\n",
    "var s2 = binop(\"+\", 1, binop(\"*\", 2, 3));"
   ]
  },
  {
   "cell_type": "code",
   "execution_count": 12,
   "id": "cbadc123-e059-48a4-aebf-2738f835f305",
   "metadata": {},
   "outputs": [
    {
     "name": "stdout",
     "output_type": "stream",
     "text": [
      "(2 * 3)\n",
      "(1 + (2 * 3))\n"
     ]
    }
   ],
   "source": [
    "/* Page 4: We call this function toInfix. Using our abstract data type, you can\n",
    "proceed to Exercise Set 5 and work out toInfix. To avoid the problem\n",
    "of operator precedence, we put parentheses around all subexpressions */\n",
    "function toInfix(bo)\n",
    "{\n",
    "    if (!isBinOp(bo))\n",
    "    {\n",
    "        return String(bo);\n",
    "    }\n",
    "    else\n",
    "    {\n",
    "        return \"(\" +\n",
    "            toInfix(binopE1(bo)) +\n",
    "            \" \" +\n",
    "            binopOp(bo) +\n",
    "            \" \" +\n",
    "            toInfix(binopE2(bo)) +\n",
    "            \")\"\n",
    "    }\n",
    "}\n",
    "\n",
    "console.log(toInfix(s1));\n",
    "console.log(toInfix(s2));"
   ]
  },
  {
   "cell_type": "code",
   "execution_count": 13,
   "id": "80f99f2e-28d3-45f1-aca6-36e2152f1999",
   "metadata": {},
   "outputs": [
    {
     "name": "stdout",
     "output_type": "stream",
     "text": [
      "(* 2 3)\n",
      "(+ 1 (* 2 3))\n"
     ]
    }
   ],
   "source": [
    "/* Page 5: Next we write a function similar to toInfix, except that it produces\n",
    "prefix notations. If the infix notation is (2 * 3), then the prefix notation\n",
    "is (* 2 3).We call this function toPrefix. This is also in Exercise Set 5. */\n",
    "function toPrefix(bo)\n",
    "{\n",
    "    if (!isBinOp(bo))\n",
    "    {\n",
    "        return String(bo);\n",
    "    }\n",
    "    else\n",
    "    {\n",
    "        return \"(\" +\n",
    "            binopOp(bo) +\n",
    "            \" \" +\n",
    "            toPrefix(binopE1(bo)) +\n",
    "            \" \" +\n",
    "            toPrefix(binopE2(bo)) +\n",
    "            \")\"\n",
    "    }\n",
    "}\n",
    "\n",
    "console.log(toPrefix(s1));\n",
    "console.log(toPrefix(s2));"
   ]
  },
  {
   "cell_type": "code",
   "execution_count": 15,
   "id": "3aa8c59b-9e33-400c-bf55-b678e4e4009a",
   "metadata": {},
   "outputs": [
    {
     "name": "stdout",
     "output_type": "stream",
     "text": [
      "6\n",
      "7\n",
      "-1\n"
     ]
    }
   ],
   "source": [
    "/* Page 5: The calculator (calc) is a function from computation graphs to\n",
    "values.*/\n",
    "function calc(bo)\n",
    "{\n",
    "    if (!isBinOp(bo))\n",
    "    {\n",
    "        return bo;\n",
    "    }\n",
    "    else\n",
    "    {\n",
    "        const bop = binopOp(bo);\n",
    "        if (bop == \"+\")\n",
    "        {\n",
    "            return calc(binopE1(bo)) + calc(binopE2(bo));\n",
    "        }\n",
    "        else if (bop == \"-\")\n",
    "        {\n",
    "            return calc(binopE1(bo)) - calc(binopE2(bo));\n",
    "        }\n",
    "        else if (bop == \"*\")\n",
    "        {\n",
    "            return calc(binopE1(bo)) * calc(binopE2(bo));\n",
    "        }\n",
    "        else if (bop == \"/\")\n",
    "        {\n",
    "            return calc(binopE1(bo)) / calc(binopE2(bo));\n",
    "        }\n",
    "    }\n",
    "}\n",
    "\n",
    "console.log(calc(s1));\n",
    "console.log(calc(s2));\n",
    "var s3 = binop(\"/\", 1, binop(\"-\", 2, 3));\n",
    "console.log(calc(s3));"
   ]
  }
 ],
 "metadata": {
  "kernelspec": {
   "display_name": "JavaScript (Node.js)",
   "language": "javascript",
   "name": "javascript"
  },
  "language_info": {
   "file_extension": ".js",
   "mimetype": "application/javascript",
   "name": "javascript",
   "version": "12.22.9"
  }
 },
 "nbformat": 4,
 "nbformat_minor": 5
}
