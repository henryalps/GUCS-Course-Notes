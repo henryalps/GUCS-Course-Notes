{
 "cells": [
  {
   "cell_type": "code",
   "execution_count": 1,
   "id": "407a69c2-f23e-4b9b-bcef-4ee8b5e9e7e3",
   "metadata": {
    "tags": []
   },
   "outputs": [
    {
     "name": "stdout",
     "output_type": "stream",
     "text": [
      "true\n",
      "true\n",
      "true\n",
      "true\n",
      "true\n",
      "true\n"
     ]
    },
    {
     "data": {
      "text/plain": [
       "true"
      ]
     },
     "execution_count": 1,
     "metadata": {},
     "output_type": "execute_result"
    }
   ],
   "source": [
    "/* page 3: We call >, < and * binary operators because they have two\n",
    "inputs. */\n",
    "console.log(2 <= 3) // 2 is less or equal to 3\n",
    "console.log(2 >= 2) // 2 is greater or equal to 2\n",
    "console.log(3 == 3) // 3 is equal to 3\n",
    "console.log(2 != 3) // 2 is not equal to 3\n",
    "console.log(2 * 3 == 6) // 2 * 3 is equal to 6\n",
    "console.log(3 == 4 - 1) // 3 is equal to 4 - 1\n",
    "var y = 2 * 3;\n",
    "y < 8 // y is less than 8"
   ]
  },
  {
   "cell_type": "code",
   "execution_count": 2,
   "id": "ede2c09c-4c06-4603-b54c-d5351f8e1b43",
   "metadata": {
    "tags": []
   },
   "outputs": [
    {
     "data": {
      "text/plain": [
       "5"
      ]
     },
     "execution_count": 2,
     "metadata": {},
     "output_type": "execute_result"
    }
   ],
   "source": [
    "/* page 5: If (x is less than 0),\n",
    "then {the value of abs(x) is -x}, otherwise {the value of abs(x) is x}. */\n",
    "function abs(x)\n",
    "{\n",
    "    if (x < 0)\n",
    "    {\n",
    "        return -x;\n",
    "    }\n",
    "    else\n",
    "    {\n",
    "        return x;\n",
    "    }\n",
    "}\n",
    "\n",
    "abs(-5)"
   ]
  },
  {
   "cell_type": "code",
   "execution_count": 3,
   "id": "29b0feca-81bd-4f48-9a36-a0b01df2a7d1",
   "metadata": {
    "tags": []
   },
   "outputs": [
    {
     "data": {
      "text/plain": [
       "true"
      ]
     },
     "execution_count": 3,
     "metadata": {},
     "output_type": "execute_result"
    }
   ],
   "source": [
    "/* page 6: You can create functions that return boolean values*/\n",
    "function hot(temp)\n",
    "{\n",
    "    return temp > 30;\n",
    "}\n",
    "\n",
    "hot(42)"
   ]
  },
  {
   "cell_type": "code",
   "execution_count": null,
   "id": "fe240a96-b60e-4238-be4c-f1c38c112491",
   "metadata": {},
   "outputs": [],
   "source": [
    "/* page 8: conditional branch is a basic building block except for variable, function and call */\n",
    "if (x < 0)\n",
    "{\n",
    "    return -1;\n",
    "}\n",
    "    else if (x == 0)\n",
    "{\n",
    "    return 0;\n",
    "}\n",
    "else\n",
    "{\n",
    "    return 1\n",
    "}"
   ]
  },
  {
   "cell_type": "code",
   "execution_count": 4,
   "id": "f6fc5c87-b629-48c1-ba5b-3fa8318e307c",
   "metadata": {
    "tags": []
   },
   "outputs": [
    {
     "data": {
      "text/plain": [
       "120"
      ]
     },
     "execution_count": 4,
     "metadata": {},
     "output_type": "execute_result"
    }
   ],
   "source": [
    "/* page 11: we have both a base case and a recursive case in a recursive function */\n",
    "function fact(n)\n",
    "{\n",
    "    if (n == 0)\n",
    "    {\n",
    "        return 1;\n",
    "    }\n",
    "    else\n",
    "    {\n",
    "        return n * fact(n - 1);\n",
    "    }\n",
    "}\n",
    "\n",
    "fact(5)"
   ]
  },
  {
   "cell_type": "code",
   "execution_count": 6,
   "id": "0153e371-08cc-4956-ac67-b5eec7b8fec3",
   "metadata": {
    "tags": []
   },
   "outputs": [
    {
     "data": {
      "text/plain": [
       "5"
      ]
     },
     "execution_count": 6,
     "metadata": {},
     "output_type": "execute_result"
    }
   ],
   "source": [
    "/* page 15: write a recursive function\n",
    "fib, which computes the nth fibonacci number */\n",
    "function fib(n)\n",
    "{\n",
    "    if (n == 0)\n",
    "    {\n",
    "        return 0;\n",
    "    }\n",
    "    else if (n == 1)\n",
    "    {\n",
    "        return 1;\n",
    "    }\n",
    "    else\n",
    "    {\n",
    "        return fib(n - 2) + fib(n - 1);\n",
    "    }\n",
    "}\n",
    "\n",
    "fib(5)"
   ]
  },
  {
   "cell_type": "code",
   "execution_count": 9,
   "id": "d37dd709-7413-4cd4-9c85-9b808d85c1e1",
   "metadata": {
    "tags": []
   },
   "outputs": [
    {
     "data": {
      "text/plain": [
       "true"
      ]
     },
     "execution_count": 9,
     "metadata": {},
     "output_type": "execute_result"
    }
   ],
   "source": [
    "/* Now that we see the examples of fib(4) and fib(5), try to figure\n",
    "out a general formula in which the number of repeated evaluation of\n",
    "fib(2) grows with n. */\n",
    "// goal: count_fib_2(n) \n",
    "// fib(n) = fib(n-1) + fib(n-2) -> count_fib_2(n) = count_fib_2(n-1) + count_fib_2(n-2)\n",
    "// count_fib_2(0) = 0\n",
    "// count_fib_2(1) = 0\n",
    "// count_fib_2(2) = 1\n",
    "function count_fib_2(n) \n",
    "{\n",
    "    if (n < 2) \n",
    "    {\n",
    "        return 0;\n",
    "    }\n",
    "    else if (n == 2)\n",
    "    {\n",
    "        return 1;\n",
    "    }\n",
    "    else\n",
    "    {\n",
    "        return count_fib_2(n-1) + count_fib_2(n-2);\n",
    "    }\n",
    "}\n",
    "// result: count_fib_2(n) = fib(n-1) if n>0 else 0\n",
    "count_fib_2(4) == fib(3)"
   ]
  },
  {
   "cell_type": "code",
   "execution_count": null,
   "id": "c2344e16-e31b-41cf-8a9a-7e32b17c62cd",
   "metadata": {},
   "outputs": [],
   "source": []
  }
 ],
 "metadata": {
  "kernelspec": {
   "display_name": "JavaScript (Node.js)",
   "language": "javascript",
   "name": "javascript"
  },
  "language_info": {
   "file_extension": ".js",
   "mimetype": "application/javascript",
   "name": "javascript",
   "version": "20.8.0"
  }
 },
 "nbformat": 4,
 "nbformat_minor": 5
}
