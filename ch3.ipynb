{
 "cells": [
  {
   "cell_type": "markdown",
   "id": "5086b499-6e68-482a-b9a6-83d2958ced20",
   "metadata": {},
   "source": [
    "## key takeaway\n",
    "Threre are three kinds of interface for some data structure:\n",
    "1. constructor\n",
    "2. type predicate\n",
    "3. visitor"
   ]
  },
  {
   "cell_type": "code",
   "execution_count": 9,
   "id": "8573c518-bc3b-4137-bcb0-405d8869efa5",
   "metadata": {},
   "outputs": [
    {
     "name": "stdout",
     "output_type": "stream",
     "text": [
      "2\n"
     ]
    },
    {
     "data": {
      "text/plain": [
       "3"
      ]
     },
     "execution_count": 9,
     "metadata": {},
     "output_type": "execute_result"
    }
   ],
   "source": [
    "/* page 3: definition of pair data structure */\n",
    "function pair(a, b)\n",
    "{\n",
    "    return select => select(a, b);\n",
    "}\n",
    "function first(p)\n",
    "{\n",
    "    return p((a, b) => a);\n",
    "}\n",
    "function second(p)\n",
    "{\n",
    "    return p((a, b) => b);\n",
    "}\n",
    "function isPair(x)\n",
    "{\n",
    "    return typeof(x) == \"function\";\n",
    "}\n",
    "\n",
    "var p = pair(2,3)\n",
    "console.log(first(p))\n",
    "second(p)\n"
   ]
  },
  {
   "cell_type": "code",
   "execution_count": 10,
   "id": "9f033237-dcc0-40c7-9de8-de1fe890746b",
   "metadata": {},
   "outputs": [
    {
     "name": "stdout",
     "output_type": "stream",
     "text": [
      "number\n",
      "number\n",
      "boolean\n",
      "boolean\n",
      "function\n",
      "function\n"
     ]
    }
   ],
   "source": [
    "/* page 6: examples of typeof */\n",
    "console.log(typeof(2))\n",
    "console.log(typeof(2 * 3))\n",
    "console.log(typeof(2 < 3))\n",
    "console.log(typeof(false))\n",
    "console.log(typeof(x => x * x))\n",
    "console.log(typeof(pair(2, 3)))"
   ]
  },
  {
   "cell_type": "code",
   "execution_count": 11,
   "id": "50695556-a1ba-43d2-bd11-6a81fbfe4271",
   "metadata": {
    "tags": []
   },
   "outputs": [
    {
     "data": {
      "text/plain": [
       "true"
      ]
     },
     "execution_count": 11,
     "metadata": {},
     "output_type": "execute_result"
    }
   ],
   "source": [
    "/* page 13: always remember to\n",
    "test both the base case and the recursive case */\n",
    "var head = first;\n",
    "var tail = second;\n",
    "function length(ls)\n",
    "{\n",
    "    if (ls == null)\n",
    "    {\n",
    "        return 0;\n",
    "    }\n",
    "    else\n",
    "    {\n",
    "        return 1 + length(tail(ls));\n",
    "    }\n",
    "}\n",
    "var list1 = pair(2, pair(3, null));\n",
    "var list2 = pair(4, pair(5, pair(6, null)));\n",
    "var list3 = pair(2, pair(pair(3, 4), null));\n",
    "0 == length(null); // should be 0\n",
    "2 == length(list1); // should be 2\n",
    "3 == length(list2); // should be 3\n",
    "2 == length(list3); // should be 2"
   ]
  },
  {
   "cell_type": "code",
   "execution_count": 12,
   "id": "30143bc3-0a87-419c-9f8c-3a52f1f10526",
   "metadata": {
    "tags": []
   },
   "outputs": [
    {
     "name": "stdout",
     "output_type": "stream",
     "text": [
      "(2, null)\n"
     ]
    }
   ],
   "source": [
    "/* page 14: Showing the word pair every time is hard to read, so we may omit it */\n",
    "function pairToString(x)\n",
    "{\n",
    "    if (!isPair(x))\n",
    "    {\n",
    "        return String(x);\n",
    "    }\n",
    "    else\n",
    "    {\n",
    "        return \"(\"\n",
    "        + pairToString(first(x))\n",
    "        + \", \"\n",
    "        + pairToString(second(x))\n",
    "        + \")\";\n",
    "    }\n",
    "}\n",
    "\n",
    "console.log(pairToString(pair(2, null)))\n"
   ]
  },
  {
   "cell_type": "code",
   "execution_count": 15,
   "id": "51ce9a07-224d-42dd-b9cd-53d923afc101",
   "metadata": {
    "tags": []
   },
   "outputs": [
    {
     "name": "stdout",
     "output_type": "stream",
     "text": [
      "(2, (3, (4, (5, (6, null)))))\n"
     ]
    }
   ],
   "source": [
    "/* Page 17: Do a step-by-step substitution of append(list1, list2) where list1 is\n",
    "(2 3) and list2 is (4 5 6).*/\n",
    "function append(ls1, ls2)\n",
    "{\n",
    "    if (ls1 == null)\n",
    "    {\n",
    "        return ls2;\n",
    "    }\n",
    "    else\n",
    "    {\n",
    "        return pair(head(ls1), append(tail(ls1), ls2));\n",
    "    }\n",
    "}\n",
    "\n",
    "// result: pair(2, pair(3, pair(4, pair(5, pair(6, null)))))\n",
    "console.log(pairToString(append(pair(2, pair(3, null)),pair(4,pair(5,pair(6, null))))))"
   ]
  },
  {
   "cell_type": "code",
   "execution_count": null,
   "id": "b6d201de-daf1-4104-a1fe-749738060b7b",
   "metadata": {},
   "outputs": [],
   "source": [
    "/* Page 20: A call to nth(ls, n) will give us the nth member of ls.*/\n",
    "function nth(ls, n)\n",
    "{\n",
    "    if (ls == null)\n",
    "    {\n",
    "        throw(\"index out of range\");\n",
    "    }\n",
    "    else if (n == 0)\n",
    "    {\n",
    "        return(head(ls));\n",
    "    }\n",
    "    else\n",
    "    {\n",
    "        return(nth(tail(ls), n - 1));\n",
    "    }\n",
    "}\n",
    "\n",
    "// result: 1\n",
    "nth(pair(0, pair(1, pair(2, null))), 1)"
   ]
  }
 ],
 "metadata": {
  "kernelspec": {
   "display_name": "JavaScript (Node.js)",
   "language": "javascript",
   "name": "javascript"
  },
  "language_info": {
   "file_extension": ".js",
   "mimetype": "application/javascript",
   "name": "javascript",
   "version": "12.22.9"
  }
 },
 "nbformat": 4,
 "nbformat_minor": 5
}
